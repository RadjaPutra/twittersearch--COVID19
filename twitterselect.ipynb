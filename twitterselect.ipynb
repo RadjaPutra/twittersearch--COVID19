#import_all_the_import
from pyspark.sql import SparkSession
from pyspark.sql import functions as F
from pyspark import SparkContext
import json
import pandas as pd

#read_json_data
readjson = spark.read.format("json").load("#COVID19_2021-09-07.json")

#print_the_schema
readjson.printSchema()

#select_expression
new_dataframe = readjson(
    F.array(F.expr("user.location")).alias("location"),
    F.array(F.expr("created_at")).alias("created_at"),
    F.array(F.expr("text")).alias("tweet"),
    F.array(F.expr("user.screen_name")).alias("user")
)

#show_data_after_select_expression
new_dataframe.show(100)

#EXAMPLE_ALL_SELECT

#select_tweet_from_indonesia
from pyspark.sql.functions import *
Indonesia = df22.filter(array_contains(('location'), "Indonesia"))
Indonesia.show()

#select_all_location
location = df_new.groupBy('location').count()
location.createOrReplaceTempView("TEST")
spark.sql("select * from TEST order by count desc").show()

#select_count_by_location
from pyspark.sql.functions import *
us = location.filter(array_conatis(('location'), "United States"))
us.show()
